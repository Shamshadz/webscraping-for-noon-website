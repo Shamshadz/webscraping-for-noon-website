{
 "cells": [
  {
   "cell_type": "code",
   "execution_count": 1,
   "id": "8855f4b4",
   "metadata": {},
   "outputs": [],
   "source": [
    "import undetected_chromedriver.v2 as uc\n",
    "from selenium.webdriver.common.by import By                                  ### Module\n",
    "from selenium.webdriver.support.ui import WebDriverWait\n",
    "from selenium.webdriver.support import expected_conditions as EC\n",
    "from multiprocessing import connection\n",
    "import mysql.connector\n",
    "import time"
   ]
  },
  {
   "cell_type": "code",
   "execution_count": 2,
   "id": "a1660ee5",
   "metadata": {},
   "outputs": [],
   "source": [
    "driver = uc.Chrome()  # loading undetectable chrome browser\n",
    "\n",
    "driver.get('https://www.careerguide.com/career-options')  ## scraping careerguide website to get career names"
   ]
  },
  {
   "cell_type": "code",
   "execution_count": 3,
   "id": "88324d88",
   "metadata": {},
   "outputs": [],
   "source": [
    "Catogery = []\n",
    "State = []\n",
    "Job_links = []\n",
    "company_links = []\n",
    "Company_Name = []\n",
    "Job_location = []\n",
    "Job_Title= []\n",
    "Mode = []"
   ]
  },
  {
   "cell_type": "code",
   "execution_count": 4,
   "id": "efdb6131",
   "metadata": {},
   "outputs": [],
   "source": [
    "#establishing the connection\n",
    "conn = mysql.connector.connect( user='choudhary', password='choudhary', host='127.0.0.1',port='3306', database='job_data',auth_plugin='mysql_native_password')\n",
    "\n",
    "#Creating a cursor object using the cursor() method\n",
    "cursor = conn.cursor()"
   ]
  },
  {
   "cell_type": "markdown",
   "id": "30be42a0",
   "metadata": {},
   "source": [
    "### categories"
   ]
  },
  {
   "cell_type": "code",
   "execution_count": 5,
   "id": "f4985585",
   "metadata": {},
   "outputs": [],
   "source": [
    "categories = []\n",
    "categoriesOpt = driver.find_elements(By.XPATH,\"//*[@class='c-font-bold']/a\")\n",
    "for categorey in categoriesOpt:\n",
    "    categories.append(categorey.text)\n",
    "    # Preparing SQL query to INSERT a record into the database.\n",
    "    sql = \"\"\"INSERT INTO data_categorie (job_categorey) VALUES (?)\", (categorey.text,)\"\"\"\n",
    "\n",
    "    # Executing the SQL command\n",
    "    cursor.execute(\"INSERT INTO job_categorie (job_categorey) VALUES (%s)\", (categorey.text,))\n",
    "\n",
    "    # Commit your changes in the database\n",
    "    conn.commit()"
   ]
  },
  {
   "cell_type": "code",
   "execution_count": 6,
   "id": "b25879ba",
   "metadata": {},
   "outputs": [],
   "source": [
    "careerTitle = []  # list to store career title\n",
    "careerTitleOpt= driver.find_elements(By.XPATH,\"//*[@class='col-md-4']/ul/li\")  ## scraping careerTitle from careerguide website"
   ]
  },
  {
   "cell_type": "markdown",
   "id": "c5ef7a74",
   "metadata": {},
   "source": [
    "#### subcategories"
   ]
  },
  {
   "cell_type": "code",
   "execution_count": 8,
   "id": "9215a8d9",
   "metadata": {},
   "outputs": [],
   "source": [
    "checkCatogries = driver.find_elements(By.XPATH,\"//*[@class='col-md-4']\")\n",
    "\n",
    "for i in range(1,len(checkCatogries)+1):\n",
    "    categorie_div = driver.find_element(By.XPATH,f\"(//*[@class='col-md-4'])[{i}]\")\n",
    "    categorey = categorie_div.text.split('\\n')[0]\n",
    "    if(categorey == \"Institutes in India\"):\n",
    "        pass\n",
    "    else:\n",
    "        lst = [categorie_div.text.split('\\n')[1:]]\n",
    "\n",
    "        for subcategorey in lst[0]:\n",
    "            careerTitle.append(str(subcategorey))\n",
    "            # Executing the SQL command\n",
    "            try:\n",
    "                cursor.execute(\"INSERT INTO job_subcategorie (job_sub_categorey,job_categorey_id) VALUES (%s,%s)\", (str(subcategorey),categorey,))\n",
    "\n",
    "                # Commit your changes in the database\n",
    "                conn.commit()\n",
    "            except:\n",
    "                pass"
   ]
  },
  {
   "cell_type": "code",
   "execution_count": 9,
   "id": "c454f130",
   "metadata": {},
   "outputs": [],
   "source": [
    "driver.get('https://www.linkedin.com/')  ## getting linkedin website to scrape"
   ]
  },
  {
   "cell_type": "code",
   "execution_count": 10,
   "id": "45f31de3",
   "metadata": {},
   "outputs": [],
   "source": [
    "username = driver.find_element(By.ID,\"session_key\")              ## signing with username and password on linkedin\n",
    "username.send_keys(\"shamshadkrunal2438@gmail.com\")           ## sending input text to input area\n",
    "password = driver.find_element(By.ID,\"session_password\")\n",
    "password.send_keys(\"wce@2438\")                           ##****your_password*****"
   ]
  },
  {
   "cell_type": "code",
   "execution_count": 11,
   "id": "c5a7b44d",
   "metadata": {
    "scrolled": true
   },
   "outputs": [
    {
     "name": "stdout",
     "output_type": "stream",
     "text": [
      "cannot find Button\n"
     ]
    }
   ],
   "source": [
    "try:\n",
    "    login_button = WebDriverWait(driver, 10).until(\n",
    "            EC.presence_of_element_located((By.CLASS_NAME,\"sign-in-form__submit-button\"))   ## locator login button for linkedin\n",
    "    )\n",
    "    login_button.click()   # clicking login button\n",
    "finally:\n",
    "    print(\"cannot find Button\")"
   ]
  },
  {
   "cell_type": "code",
   "execution_count": 12,
   "id": "f5c86e61",
   "metadata": {},
   "outputs": [],
   "source": [
    "job_button=driver.find_element(By.XPATH,\"(//*[@class='app-aware-link  global-nav__primary-link'])[2]\") ## locator for job section\n",
    "job_button.click()"
   ]
  },
  {
   "cell_type": "markdown",
   "id": "491bbbbe",
   "metadata": {},
   "source": [
    "#### Locations"
   ]
  },
  {
   "cell_type": "code",
   "execution_count": 13,
   "id": "00bc6110",
   "metadata": {},
   "outputs": [],
   "source": [
    "Locations = ['goa','maharashtra','gujrat','telangana','uttarpardesh','tamilnadu','karnataka']  ## for now only scraping for three location\n",
    "\n",
    "for state in Locations:\n",
    "    # Executing the SQL command\n",
    "    try:\n",
    "        cursor.execute(\"INSERT INTO job_state (state) VALUES (%s)\", (state,))\n",
    "        # Commit your changes in the database\n",
    "        conn.commit()\n",
    "    except:\n",
    "        pass"
   ]
  },
  {
   "cell_type": "code",
   "execution_count": 14,
   "id": "2a6d29f1",
   "metadata": {},
   "outputs": [],
   "source": [
    "infos=[]\n",
    "comp_links=[] ## list to store company links to scrape their info later on"
   ]
  },
  {
   "cell_type": "code",
   "execution_count": 15,
   "id": "dd41fbf1",
   "metadata": {},
   "outputs": [],
   "source": [
    "## making location, mode , job title, company name from info above scraped due to they are separated by newline only in same locator\n",
    "def make(info):\n",
    "    lst = []\n",
    "    string = \"\"\n",
    "    for i in info:\n",
    "        if i!=\"\\n\":\n",
    "            string+=i\n",
    "        if i==\"\\n\": \n",
    "            lst.append(string)\n",
    "            string=\"\"\n",
    "            \n",
    "    lst.append(string)   \n",
    "    return lst\n",
    "    "
   ]
  },
  {
   "cell_type": "markdown",
   "id": "8e0129e1",
   "metadata": {},
   "source": [
    "#### company deatail function to scrape and store data"
   ]
  },
  {
   "cell_type": "code",
   "execution_count": 16,
   "id": "22bf9de1",
   "metadata": {},
   "outputs": [],
   "source": [
    "def company_detail(comp,Title,state):\n",
    "    url = comp + 'about/'  ## definning url with about section of company\n",
    "        \n",
    "    driver.get(url)\n",
    "    time.sleep(2)\n",
    "    ## company name locator\n",
    "    try:\n",
    "        company_name=driver.find_element(By.XPATH,\"//*[@class='block mt2']//h1\") \n",
    "    except:\n",
    "        company_name=''\n",
    "        \n",
    "    ## locator for company description\n",
    "    try:\n",
    "        description=driver.find_element(By.XPATH,\"//*[@class='break-words white-space-pre-wrap mb5 text-body-small t-black--light']\")\n",
    "    except:\n",
    "        description=''\n",
    "        \n",
    "    try:\n",
    "        cursor.execute(\"INSERT INTO job_companydetail (name,description,job_sub_categorey_id,state_id) VALUES (%s,%s,%s,%s)\",\n",
    "                       (company_name.text,description.text,Title,state))\n",
    "\n",
    "        # Commit your changes in the database\n",
    "        conn.commit()\n",
    "    except:\n",
    "        pass"
   ]
  },
  {
   "cell_type": "markdown",
   "id": "ed9da5a5",
   "metadata": {},
   "source": [
    "##### calling company detail func on for resopective company link"
   ]
  },
  {
   "cell_type": "code",
   "execution_count": 17,
   "id": "b6f83817",
   "metadata": {},
   "outputs": [],
   "source": [
    "def make_company_details(links):\n",
    "    for link in links:\n",
    "        company_detail(link,Title,Location)"
   ]
  },
  {
   "cell_type": "markdown",
   "id": "135d8881",
   "metadata": {},
   "source": [
    "#### get job detail function "
   ]
  },
  {
   "cell_type": "code",
   "execution_count": 18,
   "id": "545a3e2d",
   "metadata": {},
   "outputs": [],
   "source": [
    "def get_jobdetail(info_div):\n",
    "    for i in info_div:                    \n",
    "        try:\n",
    "            infos.append(i.text)   ## appending job info which contains (location,mode,job title,company name) separated by newline\n",
    "            info = i.text\n",
    "        except:\n",
    "            pass\n",
    "\n",
    "        try:\n",
    "            ## appendig state location\n",
    "            State.append(Location)\n",
    "        except:\n",
    "            pass\n",
    "\n",
    "\n",
    "        lst = make(info)  ### calling make correct information function\n",
    "        \n",
    "        try:\n",
    "            ## appending job title\n",
    "            Job_Title.append(lst[0])\n",
    "        except:\n",
    "            Job_Title.append('')\n",
    "\n",
    "        try:\n",
    "            ## appending company name\n",
    "            Company_Name.append(lst[1])\n",
    "            print(lst[1])\n",
    "        except:\n",
    "            Company_Name.append('')\n",
    "\n",
    "        try:\n",
    "            ## appending job title \n",
    "            Job_location.append(lst[2])\n",
    "        except:\n",
    "            Job_location.append()\n",
    "            \n",
    "        print(lst)\n",
    "        \n",
    "        ## saving to model in django-mysql\n",
    "        try:\n",
    "            cursor.execute(\"INSERT INTO job_jobdetail (job_position,company_id,location,job_sub_categorey_id) VALUES (%s,%s,%s,%s)\",\n",
    "                           (lst[0],lst[1],lst[2],Title,))\n",
    "            # Commit your changes in the database\n",
    "            conn.commit()\n",
    "        except:\n",
    "            pass"
   ]
  },
  {
   "cell_type": "markdown",
   "id": "0ae0634e",
   "metadata": {},
   "source": [
    "#### scraping location and state wise data"
   ]
  },
  {
   "cell_type": "code",
   "execution_count": 19,
   "id": "1c2f9ce5",
   "metadata": {
    "scrolled": true
   },
   "outputs": [
    {
     "ename": "NoSuchWindowException",
     "evalue": "Message: no such window: target window already closed\nfrom unknown error: web view not found\n  (Session info: chrome=107.0.5304.107)\nStacktrace:\nBacktrace:\n\tOrdinal0 [0x008CACD3+2075859]\n\tOrdinal0 [0x0085EE61+1633889]\n\tOrdinal0 [0x0075B7BD+571325]\n\tOrdinal0 [0x00742E1A+470554]\n\tOrdinal0 [0x007AAA0B+895499]\n\tOrdinal0 [0x007BAC96+961686]\n\tOrdinal0 [0x007A7136+880950]\n\tOrdinal0 [0x0077FEFD+720637]\n\tOrdinal0 [0x00780F3F+724799]\n\tGetHandleVerifier [0x00B7EED2+2769538]\n\tGetHandleVerifier [0x00B70D95+2711877]\n\tGetHandleVerifier [0x0095A03A+521194]\n\tGetHandleVerifier [0x00958DA0+516432]\n\tOrdinal0 [0x0086682C+1665068]\n\tOrdinal0 [0x0086B128+1683752]\n\tOrdinal0 [0x0086B215+1683989]\n\tOrdinal0 [0x00876484+1729668]\n\tBaseThreadInitThunk [0x7723FEF9+25]\n\tRtlGetAppContainerNamedObjectPath [0x77827BBE+286]\n\tRtlGetAppContainerNamedObjectPath [0x77827B8E+238]\n",
     "output_type": "error",
     "traceback": [
      "\u001b[1;31m---------------------------------------------------------------------------\u001b[0m",
      "\u001b[1;31mNoSuchWindowException\u001b[0m                     Traceback (most recent call last)",
      "Cell \u001b[1;32mIn [19], line 38\u001b[0m\n\u001b[0;32m     35\u001b[0m     \u001b[38;5;28;01mexcept\u001b[39;00m:\n\u001b[0;32m     36\u001b[0m         \u001b[38;5;28;01mpass\u001b[39;00m\n\u001b[1;32m---> 38\u001b[0m \u001b[43mmake_company_details\u001b[49m\u001b[43m(\u001b[49m\u001b[43mcompany_links\u001b[49m\u001b[43m)\u001b[49m\n\u001b[0;32m     40\u001b[0m \u001b[38;5;66;03m## re-entrying url after scraping and storing company data to store job detail \u001b[39;00m\n\u001b[0;32m     41\u001b[0m \u001b[38;5;66;03m### because company is foreignkey for job detail\u001b[39;00m\n\u001b[0;32m     42\u001b[0m url \u001b[38;5;241m=\u001b[39m \u001b[38;5;124m\"\u001b[39m\u001b[38;5;124mhttps://www.linkedin.com/jobs/search/?currentJobId=3348462787&geoId=106187582&keywords=\u001b[39m\u001b[38;5;124m\"\u001b[39m\u001b[38;5;241m+\u001b[39mTitle\u001b[38;5;241m+\u001b[39m\u001b[38;5;124m\"\u001b[39m\u001b[38;5;124m&location=\u001b[39m\u001b[38;5;124m\"\u001b[39m\u001b[38;5;241m+\u001b[39mLocation\u001b[38;5;241m+\u001b[39m\u001b[38;5;124m\"\u001b[39m\u001b[38;5;124m%\u001b[39m\u001b[38;5;124m2C\u001b[39m\u001b[38;5;124m%\u001b[39m\u001b[38;5;124m20India&refresh=true\u001b[39m\u001b[38;5;124m\"\u001b[39m\n",
      "Cell \u001b[1;32mIn [17], line 3\u001b[0m, in \u001b[0;36mmake_company_details\u001b[1;34m(links)\u001b[0m\n\u001b[0;32m      1\u001b[0m \u001b[38;5;28;01mdef\u001b[39;00m \u001b[38;5;21mmake_company_details\u001b[39m(links):\n\u001b[0;32m      2\u001b[0m     \u001b[38;5;28;01mfor\u001b[39;00m link \u001b[38;5;129;01min\u001b[39;00m links:\n\u001b[1;32m----> 3\u001b[0m         \u001b[43mcompany_detail\u001b[49m\u001b[43m(\u001b[49m\u001b[43mlink\u001b[49m\u001b[43m,\u001b[49m\u001b[43mTitle\u001b[49m\u001b[43m,\u001b[49m\u001b[43mLocation\u001b[49m\u001b[43m)\u001b[49m\n",
      "Cell \u001b[1;32mIn [16], line 4\u001b[0m, in \u001b[0;36mcompany_detail\u001b[1;34m(comp, Title, state)\u001b[0m\n\u001b[0;32m      1\u001b[0m \u001b[38;5;28;01mdef\u001b[39;00m \u001b[38;5;21mcompany_detail\u001b[39m(comp,Title,state):\n\u001b[0;32m      2\u001b[0m     url \u001b[38;5;241m=\u001b[39m comp \u001b[38;5;241m+\u001b[39m \u001b[38;5;124m'\u001b[39m\u001b[38;5;124mabout/\u001b[39m\u001b[38;5;124m'\u001b[39m  \u001b[38;5;66;03m## definning url with about section of company\u001b[39;00m\n\u001b[1;32m----> 4\u001b[0m     \u001b[43mdriver\u001b[49m\u001b[38;5;241;43m.\u001b[39;49m\u001b[43mget\u001b[49m\u001b[43m(\u001b[49m\u001b[43murl\u001b[49m\u001b[43m)\u001b[49m\n\u001b[0;32m      5\u001b[0m     time\u001b[38;5;241m.\u001b[39msleep(\u001b[38;5;241m2\u001b[39m)\n\u001b[0;32m      6\u001b[0m     \u001b[38;5;66;03m## company name locator\u001b[39;00m\n",
      "File \u001b[1;32m~\\AppData\\Local\\Programs\\Python\\Python311\\Lib\\site-packages\\undetected_chromedriver\\__init__.py:541\u001b[0m, in \u001b[0;36mChrome.get\u001b[1;34m(self, url)\u001b[0m\n\u001b[0;32m    540\u001b[0m \u001b[38;5;28;01mdef\u001b[39;00m \u001b[38;5;21mget\u001b[39m(\u001b[38;5;28mself\u001b[39m, url):\n\u001b[1;32m--> 541\u001b[0m     \u001b[38;5;28;01mif\u001b[39;00m \u001b[38;5;28;43mself\u001b[39;49m\u001b[38;5;241;43m.\u001b[39;49m\u001b[43m_get_cdc_props\u001b[49m\u001b[43m(\u001b[49m\u001b[43m)\u001b[49m:\n\u001b[0;32m    542\u001b[0m         \u001b[38;5;28mself\u001b[39m\u001b[38;5;241m.\u001b[39m_hook_remove_cdc_props()\n\u001b[0;32m    543\u001b[0m     \u001b[38;5;28;01mreturn\u001b[39;00m \u001b[38;5;28msuper\u001b[39m()\u001b[38;5;241m.\u001b[39mget(url)\n",
      "File \u001b[1;32m~\\AppData\\Local\\Programs\\Python\\Python311\\Lib\\site-packages\\undetected_chromedriver\\__init__.py:513\u001b[0m, in \u001b[0;36mChrome._get_cdc_props\u001b[1;34m(self)\u001b[0m\n\u001b[0;32m    512\u001b[0m \u001b[38;5;28;01mdef\u001b[39;00m \u001b[38;5;21m_get_cdc_props\u001b[39m(\u001b[38;5;28mself\u001b[39m):\n\u001b[1;32m--> 513\u001b[0m     \u001b[38;5;28;01mreturn\u001b[39;00m \u001b[38;5;28;43mself\u001b[39;49m\u001b[38;5;241;43m.\u001b[39;49m\u001b[43mexecute_script\u001b[49m\u001b[43m(\u001b[49m\n\u001b[0;32m    514\u001b[0m \u001b[43m        \u001b[49m\u001b[38;5;124;43;03m\"\"\"\u001b[39;49;00m\n\u001b[0;32m    515\u001b[0m \u001b[38;5;124;43;03m        let objectToInspect = window,\u001b[39;49;00m\n\u001b[0;32m    516\u001b[0m \u001b[38;5;124;43;03m            result = [];\u001b[39;49;00m\n\u001b[0;32m    517\u001b[0m \u001b[38;5;124;43;03m        while(objectToInspect !== null)\u001b[39;49;00m\n\u001b[0;32m    518\u001b[0m \u001b[38;5;124;43;03m        { result = result.concat(Object.getOwnPropertyNames(objectToInspect));\u001b[39;49;00m\n\u001b[0;32m    519\u001b[0m \u001b[38;5;124;43;03m          objectToInspect = Object.getPrototypeOf(objectToInspect); }\u001b[39;49;00m\n\u001b[0;32m    520\u001b[0m \u001b[38;5;124;43;03m        return result.filter(i => i.match(/.+_.+_(Array|Promise|Symbol)/ig))\u001b[39;49;00m\n\u001b[0;32m    521\u001b[0m \u001b[38;5;124;43;03m        \"\"\"\u001b[39;49;00m\n\u001b[0;32m    522\u001b[0m \u001b[43m    \u001b[49m\u001b[43m)\u001b[49m\n",
      "File \u001b[1;32m~\\AppData\\Local\\Programs\\Python\\Python311\\Lib\\site-packages\\selenium\\webdriver\\remote\\webdriver.py:506\u001b[0m, in \u001b[0;36mWebDriver.execute_script\u001b[1;34m(self, script, *args)\u001b[0m\n\u001b[0;32m    503\u001b[0m converted_args \u001b[38;5;241m=\u001b[39m \u001b[38;5;28mlist\u001b[39m(args)\n\u001b[0;32m    504\u001b[0m command \u001b[38;5;241m=\u001b[39m Command\u001b[38;5;241m.\u001b[39mW3C_EXECUTE_SCRIPT\n\u001b[1;32m--> 506\u001b[0m \u001b[38;5;28;01mreturn\u001b[39;00m \u001b[38;5;28;43mself\u001b[39;49m\u001b[38;5;241;43m.\u001b[39;49m\u001b[43mexecute\u001b[49m\u001b[43m(\u001b[49m\u001b[43mcommand\u001b[49m\u001b[43m,\u001b[49m\u001b[43m \u001b[49m\u001b[43m{\u001b[49m\u001b[38;5;124;43m\"\u001b[39;49m\u001b[38;5;124;43mscript\u001b[39;49m\u001b[38;5;124;43m\"\u001b[39;49m\u001b[43m:\u001b[49m\u001b[43m \u001b[49m\u001b[43mscript\u001b[49m\u001b[43m,\u001b[49m\u001b[43m \u001b[49m\u001b[38;5;124;43m\"\u001b[39;49m\u001b[38;5;124;43margs\u001b[39;49m\u001b[38;5;124;43m\"\u001b[39;49m\u001b[43m:\u001b[49m\u001b[43m \u001b[49m\u001b[43mconverted_args\u001b[49m\u001b[43m}\u001b[49m\u001b[43m)\u001b[49m[\u001b[38;5;124m\"\u001b[39m\u001b[38;5;124mvalue\u001b[39m\u001b[38;5;124m\"\u001b[39m]\n",
      "File \u001b[1;32m~\\AppData\\Local\\Programs\\Python\\Python311\\Lib\\site-packages\\selenium\\webdriver\\remote\\webdriver.py:444\u001b[0m, in \u001b[0;36mWebDriver.execute\u001b[1;34m(self, driver_command, params)\u001b[0m\n\u001b[0;32m    442\u001b[0m response \u001b[38;5;241m=\u001b[39m \u001b[38;5;28mself\u001b[39m\u001b[38;5;241m.\u001b[39mcommand_executor\u001b[38;5;241m.\u001b[39mexecute(driver_command, params)\n\u001b[0;32m    443\u001b[0m \u001b[38;5;28;01mif\u001b[39;00m response:\n\u001b[1;32m--> 444\u001b[0m     \u001b[38;5;28;43mself\u001b[39;49m\u001b[38;5;241;43m.\u001b[39;49m\u001b[43merror_handler\u001b[49m\u001b[38;5;241;43m.\u001b[39;49m\u001b[43mcheck_response\u001b[49m\u001b[43m(\u001b[49m\u001b[43mresponse\u001b[49m\u001b[43m)\u001b[49m\n\u001b[0;32m    445\u001b[0m     response[\u001b[38;5;124m\"\u001b[39m\u001b[38;5;124mvalue\u001b[39m\u001b[38;5;124m\"\u001b[39m] \u001b[38;5;241m=\u001b[39m \u001b[38;5;28mself\u001b[39m\u001b[38;5;241m.\u001b[39m_unwrap_value(response\u001b[38;5;241m.\u001b[39mget(\u001b[38;5;124m\"\u001b[39m\u001b[38;5;124mvalue\u001b[39m\u001b[38;5;124m\"\u001b[39m, \u001b[38;5;28;01mNone\u001b[39;00m))\n\u001b[0;32m    446\u001b[0m     \u001b[38;5;28;01mreturn\u001b[39;00m response\n",
      "File \u001b[1;32m~\\AppData\\Local\\Programs\\Python\\Python311\\Lib\\site-packages\\selenium\\webdriver\\remote\\errorhandler.py:249\u001b[0m, in \u001b[0;36mErrorHandler.check_response\u001b[1;34m(self, response)\u001b[0m\n\u001b[0;32m    247\u001b[0m         alert_text \u001b[38;5;241m=\u001b[39m value[\u001b[38;5;124m\"\u001b[39m\u001b[38;5;124malert\u001b[39m\u001b[38;5;124m\"\u001b[39m]\u001b[38;5;241m.\u001b[39mget(\u001b[38;5;124m\"\u001b[39m\u001b[38;5;124mtext\u001b[39m\u001b[38;5;124m\"\u001b[39m)\n\u001b[0;32m    248\u001b[0m     \u001b[38;5;28;01mraise\u001b[39;00m exception_class(message, screen, stacktrace, alert_text)  \u001b[38;5;66;03m# type: ignore[call-arg]  # mypy is not smart enough here\u001b[39;00m\n\u001b[1;32m--> 249\u001b[0m \u001b[38;5;28;01mraise\u001b[39;00m exception_class(message, screen, stacktrace)\n",
      "\u001b[1;31mNoSuchWindowException\u001b[0m: Message: no such window: target window already closed\nfrom unknown error: web view not found\n  (Session info: chrome=107.0.5304.107)\nStacktrace:\nBacktrace:\n\tOrdinal0 [0x008CACD3+2075859]\n\tOrdinal0 [0x0085EE61+1633889]\n\tOrdinal0 [0x0075B7BD+571325]\n\tOrdinal0 [0x00742E1A+470554]\n\tOrdinal0 [0x007AAA0B+895499]\n\tOrdinal0 [0x007BAC96+961686]\n\tOrdinal0 [0x007A7136+880950]\n\tOrdinal0 [0x0077FEFD+720637]\n\tOrdinal0 [0x00780F3F+724799]\n\tGetHandleVerifier [0x00B7EED2+2769538]\n\tGetHandleVerifier [0x00B70D95+2711877]\n\tGetHandleVerifier [0x0095A03A+521194]\n\tGetHandleVerifier [0x00958DA0+516432]\n\tOrdinal0 [0x0086682C+1665068]\n\tOrdinal0 [0x0086B128+1683752]\n\tOrdinal0 [0x0086B215+1683989]\n\tOrdinal0 [0x00876484+1729668]\n\tBaseThreadInitThunk [0x7723FEF9+25]\n\tRtlGetAppContainerNamedObjectPath [0x77827BBE+286]\n\tRtlGetAppContainerNamedObjectPath [0x77827B8E+238]\n"
     ]
    }
   ],
   "source": [
    "for Location in Locations:  ## double looping for each location with job careertitle\n",
    "    for Title in careerTitle[12:]:\n",
    "        url = \"https://www.linkedin.com/jobs/search/?currentJobId=3348462787&keywords=\"+Title+\"&location=\"+Location+\"%2C%20India&refresh=true\"\n",
    "        \n",
    "        driver.get(url)\n",
    "        \n",
    "        flag=1\n",
    "        page_no = 25\n",
    "        current_url = driver.current_url\n",
    "            \n",
    "        while(flag>0):\n",
    "            ## locator for job info which as location, mode, title, company name separeted by newline\n",
    "            info_div=driver.find_elements(By.XPATH,\"//*[@class='flex-grow-1 artdeco-entity-lockup__content ember-view']\")\n",
    "\n",
    "            ## locator for job links and company links\n",
    "            job_Links = driver.find_elements(By.XPATH,\"(//*[@class='flex-grow-1 artdeco-entity-lockup__content ember-view']/div[1]/a)\")\n",
    "            comp_Links = driver.find_elements(By.XPATH,\"(//*[@class='flex-grow-1 artdeco-entity-lockup__content ember-view']/div[2]/a)\")\n",
    "\n",
    "            # try for if there is any job with given title\n",
    "            try:\n",
    "                checkProduct=driver.find_element(By.XPATH,\"//*[@class='t-24 t-black t-normal text-align-center']\").text\n",
    "            except:\n",
    "                checkProduct=''\n",
    "\n",
    "            ## if no job with given title found pass to next job title\n",
    "            if(checkProduct==\"No matching jobs found.\"):\n",
    "                flag=0\n",
    "            else:\n",
    "                company_links =[]\n",
    "                for comp_link in comp_Links:\n",
    "                    \n",
    "                    try:\n",
    "                        link = comp_link.get_attribute('href')\n",
    "                        company_links.append(link)\n",
    "                    except:\n",
    "                        pass\n",
    "            \n",
    "                make_company_details(company_links)\n",
    "        \n",
    "                ## re-entrying url after scraping and storing company data to store job detail \n",
    "                ### because company is foreignkey for job detail\n",
    "                url = \"https://www.linkedin.com/jobs/search/?currentJobId=3348462787&geoId=106187582&keywords=\"+Title+\"&location=\"+Location+\"%2C%20India&refresh=true\"\n",
    "                driver.get(url)\n",
    "                \n",
    "                ## locator for job info which as location, mode, title, company name separeted by newline\n",
    "                time.sleep(2)\n",
    "                info_div=driver.find_elements(By.XPATH,\"//*[@class='flex-grow-1 artdeco-entity-lockup__content ember-view']\")\n",
    "                get_jobdetail(info_div)\n",
    "                \n",
    "                ## going to next page for more jobs\n",
    "                next_page_url = current_url + \"&start=\" + str(page_no)\n",
    "                page_no=page_no+25\n",
    "                \n",
    "                try:\n",
    "                    checkNextPageButton=driver.find_element(By.XPATH,\"//*[@class='jobs-search-results-list__pagination pv5 artdeco-pagination ember-view']\").text\n",
    "                    if(checkNextPageButton):\n",
    "                        driver.get(next_page_url) \n",
    "                except:\n",
    "                    checkNextPageButton=''\n",
    "                    flag=0"
   ]
  },
  {
   "cell_type": "code",
   "execution_count": null,
   "id": "f44100be",
   "metadata": {},
   "outputs": [],
   "source": [
    "driver.quit()  ## closing driver"
   ]
  }
 ],
 "metadata": {
  "kernelspec": {
   "display_name": "Python 3 (ipykernel)",
   "language": "python",
   "name": "python3"
  },
  "language_info": {
   "codemirror_mode": {
    "name": "ipython",
    "version": 3
   },
   "file_extension": ".py",
   "mimetype": "text/x-python",
   "name": "python",
   "nbconvert_exporter": "python",
   "pygments_lexer": "ipython3",
   "version": "3.11.0"
  }
 },
 "nbformat": 4,
 "nbformat_minor": 5
}
