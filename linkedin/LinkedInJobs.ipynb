{
 "cells": [
  {
   "cell_type": "code",
   "execution_count": null,
   "id": "8855f4b4",
   "metadata": {},
   "outputs": [],
   "source": [
    "import undetected_chromedriver.v2 as uc\n",
    "from selenium.webdriver.common.by import By                                  ### Module\n",
    "from selenium.webdriver.support.ui import WebDriverWait\n",
    "from selenium.webdriver.support import expected_conditions as EC\n",
    "from multiprocessing import connection\n",
    "import mysql.connector\n",
    "import time"
   ]
  },
  {
   "cell_type": "code",
   "execution_count": null,
   "id": "a1660ee5",
   "metadata": {},
   "outputs": [],
   "source": [
    "driver = uc.Chrome()  # loading undetectable chrome browser\n",
    "\n",
    "driver.get('https://www.careerguide.com/career-options')  ## scraping careerguide website to get career names"
   ]
  },
  {
   "cell_type": "code",
   "execution_count": null,
   "id": "88324d88",
   "metadata": {},
   "outputs": [],
   "source": [
    "Catogery = []\n",
    "State = []\n",
    "Job_links = []\n",
    "company_links = []\n",
    "Company_Name = []\n",
    "Job_location = []\n",
    "Job_Title= []\n",
    "Mode = []"
   ]
  },
  {
   "cell_type": "code",
   "execution_count": null,
   "id": "efdb6131",
   "metadata": {},
   "outputs": [],
   "source": [
    "#establishing the connection\n",
    "conn = mysql.connector.connect( user='choudhary', password='choudhary', host='127.0.0.1',port='3306', database='job_data',auth_plugin='mysql_native_password')\n",
    "\n",
    "#Creating a cursor object using the cursor() method\n",
    "cursor = conn.cursor()"
   ]
  },
  {
   "cell_type": "markdown",
   "id": "30be42a0",
   "metadata": {},
   "source": [
    "### categories"
   ]
  },
  {
   "cell_type": "code",
   "execution_count": null,
   "id": "f4985585",
   "metadata": {},
   "outputs": [],
   "source": [
    "categories = []\n",
    "categoriesOpt = driver.find_elements(By.XPATH,\"//*[@class='c-font-bold']/a\")\n",
    "for categorey in categoriesOpt:\n",
    "    categories.append(categorey.text)\n",
    "    # Preparing SQL query to INSERT a record into the database.\n",
    "    sql = \"\"\"INSERT INTO data_categorie (job_categorey) VALUES (?)\", (categorey.text,)\"\"\"\n",
    "\n",
    "    # Executing the SQL command\n",
    "    cursor.execute(\"INSERT INTO job_categorie (job_categorey) VALUES (%s)\", (categorey.text,))\n",
    "\n",
    "    # Commit your changes in the database\n",
    "    conn.commit()"
   ]
  },
  {
   "cell_type": "code",
   "execution_count": null,
   "id": "b25879ba",
   "metadata": {},
   "outputs": [],
   "source": [
    "careerTitle = []  # list to store career title\n",
    "careerTitleOpt= driver.find_elements(By.XPATH,\"//*[@class='col-md-4']/ul/li\")  ## scraping careerTitle from careerguide website"
   ]
  },
  {
   "cell_type": "markdown",
   "id": "c5ef7a74",
   "metadata": {},
   "source": [
    "#### subcategories"
   ]
  },
  {
   "cell_type": "code",
   "execution_count": null,
   "id": "9215a8d9",
   "metadata": {},
   "outputs": [],
   "source": [
    "checkCatogries = driver.find_elements(By.XPATH,\"//*[@class='col-md-4']\")\n",
    "\n",
    "for i in range(1,len(checkCatogries)+1):\n",
    "    categorie_div = driver.find_element(By.XPATH,f\"(//*[@class='col-md-4'])[{i}]\")\n",
    "    categorey = categorie_div.text.split('\\n')[0]\n",
    "    if(categorey == \"Institutes in India\"):\n",
    "        pass\n",
    "    else:\n",
    "        lst = [categorie_div.text.split('\\n')[1:]]\n",
    "\n",
    "        for subcategorey in lst[0]:\n",
    "            careerTitle.append(str(subcategorey))\n",
    "            # Executing the SQL command\n",
    "            try:\n",
    "                cursor.execute(\"INSERT INTO job_subcategorie (job_sub_categorey,job_categorey_id) VALUES (%s,%s)\", (str(subcategorey),categorey,))\n",
    "\n",
    "                # Commit your changes in the database\n",
    "                conn.commit()\n",
    "            except:\n",
    "                pass"
   ]
  },
  {
   "cell_type": "code",
   "execution_count": null,
   "id": "c454f130",
   "metadata": {},
   "outputs": [],
   "source": [
    "driver.get('https://www.linkedin.com/')  ## getting linkedin website to scrape"
   ]
  },
  {
   "cell_type": "code",
   "execution_count": null,
   "id": "45f31de3",
   "metadata": {},
   "outputs": [],
   "source": [
    "username = driver.find_element(By.ID,\"session_key\")              ## signing with username and password on linkedin\n",
    "username.send_keys(\"shamshadkrunal2438@gmail.com\")           ## sending input text to input area\n",
    "password = driver.find_element(By.ID,\"session_password\")\n",
    "password.send_keys(\"wce@2438\")                           ##****your_password*****"
   ]
  },
  {
   "cell_type": "code",
   "execution_count": null,
   "id": "c5a7b44d",
   "metadata": {
    "scrolled": true
   },
   "outputs": [],
   "source": [
    "try:\n",
    "    login_button = WebDriverWait(driver, 10).until(\n",
    "            EC.presence_of_element_located((By.CLASS_NAME,\"sign-in-form__submit-button\"))   ## locator login button for linkedin\n",
    "    )\n",
    "    login_button.click()   # clicking login button\n",
    "finally:\n",
    "    print(\"cannot find Button\")"
   ]
  },
  {
   "cell_type": "code",
   "execution_count": null,
   "id": "f5c86e61",
   "metadata": {},
   "outputs": [],
   "source": [
    "job_button=driver.find_element(By.XPATH,\"(//*[@class='app-aware-link  global-nav__primary-link'])[2]\") ## locator for job section\n",
    "job_button.click()"
   ]
  },
  {
   "cell_type": "markdown",
   "id": "491bbbbe",
   "metadata": {},
   "source": [
    "#### Locations"
   ]
  },
  {
   "cell_type": "code",
   "execution_count": null,
   "id": "00bc6110",
   "metadata": {},
   "outputs": [],
   "source": [
    "Locations = ['goa','maharashtra','gujrat','telangana','uttarpardesh','tamilnadu','karnataka']  ## for now only scraping for three location\n",
    "\n",
    "for state in Locations:\n",
    "    # Executing the SQL command\n",
    "    try:\n",
    "        cursor.execute(\"INSERT INTO job_state (state) VALUES (%s)\", (state,))\n",
    "        # Commit your changes in the database\n",
    "        conn.commit()\n",
    "    except:\n",
    "        pass"
   ]
  },
  {
   "cell_type": "code",
   "execution_count": null,
   "id": "2a6d29f1",
   "metadata": {},
   "outputs": [],
   "source": [
    "infos=[]\n",
    "comp_links=[] ## list to store company links to scrape their info later on"
   ]
  },
  {
   "cell_type": "code",
   "execution_count": null,
   "id": "dd41fbf1",
   "metadata": {},
   "outputs": [],
   "source": [
    "## making location, mode , job title, company name from info above scraped due to they are separated by newline only in same locator\n",
    "def make(info):\n",
    "    lst = []\n",
    "    string = \"\"\n",
    "    for i in info:\n",
    "        if i!=\"\\n\":\n",
    "            string+=i\n",
    "        if i==\"\\n\": \n",
    "            lst.append(string)\n",
    "            string=\"\"\n",
    "            \n",
    "    lst.append(string)   \n",
    "    return lst\n",
    "    "
   ]
  },
  {
   "cell_type": "markdown",
   "id": "8e0129e1",
   "metadata": {},
   "source": [
    "#### company deatail function to scrape and store data"
   ]
  },
  {
   "cell_type": "code",
   "execution_count": null,
   "id": "22bf9de1",
   "metadata": {},
   "outputs": [],
   "source": [
    "def company_detail(comp,Title,state):\n",
    "    url = comp + 'about/'  ## definning url with about section of company\n",
    "        \n",
    "    driver.get(url)\n",
    "    time.sleep(2)\n",
    "    ## company name locator\n",
    "    try:\n",
    "        company_name=driver.find_element(By.XPATH,\"//*[@class='block mt2']//h1\") \n",
    "    except:\n",
    "        company_name=''\n",
    "        \n",
    "    ## locator for company description\n",
    "    try:\n",
    "        description=driver.find_element(By.XPATH,\"//*[@class='break-words white-space-pre-wrap mb5 text-body-small t-black--light']\")\n",
    "    except:\n",
    "        description=''\n",
    "        \n",
    "    try:\n",
    "        cursor.execute(\"INSERT INTO job_companydetail (name,description,job_sub_categorey_id,state_id) VALUES (%s,%s,%s,%s)\",\n",
    "                       (company_name.text,description.text,Title,state))\n",
    "\n",
    "        # Commit your changes in the database\n",
    "        conn.commit()\n",
    "    except:\n",
    "        pass"
   ]
  },
  {
   "cell_type": "markdown",
   "id": "ed9da5a5",
   "metadata": {},
   "source": [
    "##### calling company detail func on for resopective company link"
   ]
  },
  {
   "cell_type": "code",
   "execution_count": null,
   "id": "b6f83817",
   "metadata": {},
   "outputs": [],
   "source": [
    "def make_company_details(links):\n",
    "    for link in links:\n",
    "        company_detail(link,Title,Location)"
   ]
  },
  {
   "cell_type": "markdown",
   "id": "135d8881",
   "metadata": {},
   "source": [
    "#### get job detail function "
   ]
  },
  {
   "cell_type": "code",
   "execution_count": null,
   "id": "545a3e2d",
   "metadata": {},
   "outputs": [],
   "source": [
    "def get_jobdetail(info_div):\n",
    "    for i in info_div:                    \n",
    "        try:\n",
    "            infos.append(i.text)   ## appending job info which contains (location,mode,job title,company name) separated by newline\n",
    "            info = i.text\n",
    "        except:\n",
    "            pass\n",
    "\n",
    "        try:\n",
    "            ## appendig state location\n",
    "            State.append(Location)\n",
    "        except:\n",
    "            pass\n",
    "\n",
    "\n",
    "        lst = make(info)  ### calling make correct information function\n",
    "        \n",
    "        try:\n",
    "            ## appending job title\n",
    "            Job_Title.append(lst[0])\n",
    "        except:\n",
    "            Job_Title.append('')\n",
    "\n",
    "        try:\n",
    "            ## appending company name\n",
    "            Company_Name.append(lst[1])\n",
    "            print(lst[1])\n",
    "        except:\n",
    "            Company_Name.append('')\n",
    "\n",
    "        try:\n",
    "            ## appending job title \n",
    "            Job_location.append(lst[2])\n",
    "        except:\n",
    "            Job_location.append()\n",
    "            \n",
    "        print(lst)\n",
    "        \n",
    "        ## saving to model in django-mysql\n",
    "        try:\n",
    "            cursor.execute(\"INSERT INTO job_jobdetail (job_position,company_id,location,job_sub_categorey_id) VALUES (%s,%s,%s,%s)\",\n",
    "                           (lst[0],lst[1],lst[2],Title,))\n",
    "            # Commit your changes in the database\n",
    "            conn.commit()\n",
    "        except:\n",
    "            pass"
   ]
  },
  {
   "cell_type": "markdown",
   "id": "0ae0634e",
   "metadata": {},
   "source": [
    "#### scraping location and state wise data"
   ]
  },
  {
   "cell_type": "code",
   "execution_count": null,
   "id": "1c2f9ce5",
   "metadata": {
    "scrolled": true
   },
   "outputs": [],
   "source": [
    "for Location in Locations:  ## double looping for each location with job careertitle\n",
    "    for Title in careerTitle[12:]:\n",
    "        url = \"https://www.linkedin.com/jobs/search/?&keywords=\"+Title+\"&location=\"+Location+\"%2C%20India&refresh=true\"\n",
    "        \n",
    "        driver.get(url)\n",
    "        \n",
    "        flag=1\n",
    "        page_no = 25\n",
    "        current_url = driver.current_url\n",
    "            \n",
    "        while(flag>0):\n",
    "            ## locator for job info which as location, mode, title, company name separeted by newline\n",
    "            info_div=driver.find_elements(By.XPATH,\"//*[@class='flex-grow-1 artdeco-entity-lockup__content ember-view']\")\n",
    "\n",
    "            ## locator for job links and company links\n",
    "            job_Links = driver.find_elements(By.XPATH,\"(//*[@class='flex-grow-1 artdeco-entity-lockup__content ember-view']/div[1]/a)\")\n",
    "            comp_Links = driver.find_elements(By.XPATH,\"(//*[@class='flex-grow-1 artdeco-entity-lockup__content ember-view']/div[2]/a)\")\n",
    "\n",
    "            # try for if there is any job with given title\n",
    "            try:\n",
    "                checkProduct=driver.find_element(By.XPATH,\"//*[@class='t-24 t-black t-normal text-align-center']\").text\n",
    "            except:\n",
    "                checkProduct=''\n",
    "\n",
    "            ## if no job with given title found pass to next job title\n",
    "            if(checkProduct==\"No matching jobs found.\"):\n",
    "                flag=0\n",
    "            else:\n",
    "                company_links =[]\n",
    "                for comp_link in comp_Links:\n",
    "                    \n",
    "                    try:\n",
    "                        link = comp_link.get_attribute('href')\n",
    "                        company_links.append(link)\n",
    "                    except:\n",
    "                        pass\n",
    "            \n",
    "                make_company_details(company_links)\n",
    "        \n",
    "                ## re-entrying url after scraping and storing company data to store job detail \n",
    "                ### because company is foreignkey for job detail\n",
    "                url = \"https://www.linkedin.com/jobs/search/?&keywords=\"+Title+\"&location=\"+Location+\"%2C%20India&refresh=true\"\n",
    "                driver.get(url)\n",
    "                \n",
    "                ## locator for job info which as location, mode, title, company name separeted by newline\n",
    "                time.sleep(2)\n",
    "                info_div=driver.find_elements(By.XPATH,\"//*[@class='flex-grow-1 artdeco-entity-lockup__content ember-view']\")\n",
    "                get_jobdetail(info_div)\n",
    "                \n",
    "                ## going to next page for more jobs\n",
    "                next_page_url = current_url + \"&start=\" + str(page_no)\n",
    "                page_no=page_no+25\n",
    "                \n",
    "                try:\n",
    "                    checkNextPageButton=driver.find_element(By.XPATH,\"//*[@class='jobs-search-results-list__pagination pv5 artdeco-pagination ember-view']\").text\n",
    "                    if(checkNextPageButton):\n",
    "                        driver.get(next_page_url) \n",
    "                except:\n",
    "                    checkNextPageButton=''\n",
    "                    flag=0"
   ]
  },
  {
   "cell_type": "code",
   "execution_count": null,
   "id": "f44100be",
   "metadata": {},
   "outputs": [],
   "source": [
    "driver.quit()  ## closing driver"
   ]
  }
 ],
 "metadata": {
  "kernelspec": {
   "display_name": "Python 3 (ipykernel)",
   "language": "python",
   "name": "python3"
  },
  "language_info": {
   "codemirror_mode": {
    "name": "ipython",
    "version": 3
   },
   "file_extension": ".py",
   "mimetype": "text/x-python",
   "name": "python",
   "nbconvert_exporter": "python",
   "pygments_lexer": "ipython3",
   "version": "3.11.0"
  }
 },
 "nbformat": 4,
 "nbformat_minor": 5
}
