{
 "cells": [
  {
   "cell_type": "markdown",
   "id": "c2fd00a8",
   "metadata": {},
   "source": [
    "### Import Module"
   ]
  },
  {
   "cell_type": "code",
   "execution_count": null,
   "id": "d11df209",
   "metadata": {},
   "outputs": [],
   "source": [
    "from selenium.webdriver.common.by import By\n",
    "import undetected_chromedriver.v2 as uc\n",
    "import time\n",
    "import pandas as pd"
   ]
  },
  {
   "cell_type": "markdown",
   "id": "dee88f44",
   "metadata": {},
   "source": [
    "### Main function"
   ]
  },
  {
   "cell_type": "code",
   "execution_count": null,
   "id": "c93f4906",
   "metadata": {},
   "outputs": [],
   "source": [
    "if __name__ == '__main__':\n",
    "    \n",
    "    driver = uc.Chrome()  ## using unrestircted chromedriver for bypassing bot catcher\n",
    "\n",
    "    driver.get('https://in.godaddy.com/domainsearch/find?checkAvail=1&domainToCheck=bjmtuc.club')\n",
    "\n",
    "    driver.maximize_window()\n",
    "    time.sleep(5)\n",
    "    driver.refresh()   ## refreshed page due to not loading of page at first attempt\n",
    "\n",
    "    ## name and price list to append name and price data\n",
    "    name = []\n",
    "    price = []\n",
    "    \n",
    "    time.sleep(2)\n",
    "    exactName = driver.find_elements(By.XPATH,\"(//div[@data-cy='single-line-display'])[1]\") ## locator for exact domain name\n",
    "    altName = driver.find_elements(By.XPATH,\"(//div[@data-cy='single-line-display'])[2]\")   ## locator for alternative domain name\n",
    "    exactPrice = driver.find_elements(By.XPATH,\"(//span[@data-cy='pricing-main-price'])[1]\")## locator for exact price \n",
    "    altPrice = driver.find_elements(By.XPATH,\"(//span[@data-cy='pricing-main-price'])[2]\")  ## locator for alternative price\n",
    "    \n",
    "    products =driver.find_elements(By.XPATH,\"//div[@data-cy='spins-result']\") ## locator for div\n",
    "\n",
    "    print(\"Scraping page Started\")"
   ]
  },
  {
   "cell_type": "markdown",
   "id": "923a39c9",
   "metadata": {},
   "source": [
    "### Appending exact , alternative domain and price to name, price lists"
   ]
  },
  {
   "cell_type": "code",
   "execution_count": null,
   "id": "6a40b816",
   "metadata": {},
   "outputs": [],
   "source": [
    "name.append(exactName[0].text)\n",
    "name.append(altName[0].text)\n",
    "price.append(exactPrice[0].text)\n",
    "price.append(altPrice[0].text)"
   ]
  },
  {
   "cell_type": "code",
   "execution_count": null,
   "id": "c22f1826",
   "metadata": {},
   "outputs": [],
   "source": [
    "def makelst(x):   ## function use make proper data for list of products\n",
    "    lst = []\n",
    "    string = \"\"\n",
    "    for i in x:\n",
    "        if i!='\\n':\n",
    "            string+=i\n",
    "        if i=='\\n': \n",
    "            lst.append(string)\n",
    "            string=\"\"\n",
    "    return lst"
   ]
  },
  {
   "cell_type": "code",
   "execution_count": null,
   "id": "151dddc0",
   "metadata": {},
   "outputs": [],
   "source": [
    "data = []\n",
    "for product in products:   ## Making domain name and price list only for data from product list using Makelst() function\n",
    "    y = makelst(product.text)\n",
    "    data.append(y)"
   ]
  },
  {
   "cell_type": "code",
   "execution_count": null,
   "id": "f1e5a851",
   "metadata": {},
   "outputs": [],
   "source": [
    "rupee = u'\\u20B9' ## for rupee symbol\n",
    "\n",
    "valbtw = [] ## for storing ASCII value between 65 to 90\n",
    "for i in range(65,91): \n",
    "    valbtw.append(i)\n",
    "\n",
    "\n",
    "def load_Name(y):  \n",
    "    for i in y:\n",
    "        if i[0]!=rupee and i[0]!=\" \":\n",
    "            if ord(i[0]) not in valbtw:\n",
    "                name.append(i)\n",
    "    return name\n",
    "\n",
    "\n",
    "def load_price(y):\n",
    "    for i in y:\n",
    "        if i[0]==rupee:\n",
    "            price.append(i)\n",
    "    return price"
   ]
  },
  {
   "cell_type": "markdown",
   "id": "b4586b4d",
   "metadata": {},
   "source": [
    "### Making List of Domain name and Price"
   ]
  },
  {
   "cell_type": "code",
   "execution_count": null,
   "id": "865a1a30",
   "metadata": {},
   "outputs": [],
   "source": [
    "for dt in data:\n",
    "    load_Name(dt)\n",
    "    load_price(dt)"
   ]
  },
  {
   "cell_type": "markdown",
   "id": "c580dcf2",
   "metadata": {},
   "source": [
    "### defining data frame for excel headers"
   ]
  },
  {
   "cell_type": "code",
   "execution_count": null,
   "id": "c295bb5b",
   "metadata": {},
   "outputs": [],
   "source": [
    "df_bike = pd.DataFrame(columns=['Domain Name','Domain Price'])"
   ]
  },
  {
   "cell_type": "markdown",
   "id": "c257cdfe",
   "metadata": {},
   "source": [
    "### Adding domain name and price to dataframe"
   ]
  },
  {
   "cell_type": "code",
   "execution_count": null,
   "id": "564ebbd7",
   "metadata": {},
   "outputs": [],
   "source": [
    "for i in range(len(products)):\n",
    "    df_bike = df_bike.append({'Domain Name':name[i],'Domain Price':price[i]}, ignore_index=True)\n",
    "\n",
    "print(df_bike)"
   ]
  },
  {
   "cell_type": "markdown",
   "id": "b306e3c7",
   "metadata": {},
   "source": [
    "### Making excel file"
   ]
  },
  {
   "cell_type": "code",
   "execution_count": null,
   "id": "7a655ccf",
   "metadata": {},
   "outputs": [],
   "source": [
    "df_bike.to_excel('dodaddyBjmtucClub.xlsx',index=False)"
   ]
  },
  {
   "cell_type": "code",
   "execution_count": null,
   "id": "a155e435",
   "metadata": {},
   "outputs": [],
   "source": [
    "driver.quit()"
   ]
  }
 ],
 "metadata": {
  "kernelspec": {
   "display_name": "Python 3 (ipykernel)",
   "language": "python",
   "name": "python3"
  },
  "language_info": {
   "codemirror_mode": {
    "name": "ipython",
    "version": 3
   },
   "file_extension": ".py",
   "mimetype": "text/x-python",
   "name": "python",
   "nbconvert_exporter": "python",
   "pygments_lexer": "ipython3",
   "version": "3.10.6"
  }
 },
 "nbformat": 4,
 "nbformat_minor": 5
}
