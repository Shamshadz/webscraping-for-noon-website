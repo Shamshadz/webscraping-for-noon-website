{
 "cells": [
  {
   "cell_type": "markdown",
   "id": "84403f47",
   "metadata": {},
   "source": [
    "### Import Module"
   ]
  },
  {
   "cell_type": "code",
   "execution_count": 1,
   "id": "ba062798",
   "metadata": {},
   "outputs": [],
   "source": [
    "from selenium import webdriver\n",
    "from selenium.webdriver.common.by import By\n",
    "from selenium.webdriver.common.keys import Keys\n",
    "from selenium.webdriver.support.ui import WebDriverWait\n",
    "from selenium.webdriver.support import expected_conditions as EC\n",
    "from webdriver_manager.chrome import ChromeDriverManager\n",
    "from selenium.webdriver.chrome.service import Service\n",
    "from selenium.webdriver.chrome.options import Options\n",
    "from selenium.common.exceptions import NoSuchElementException\n",
    "from openpyxl import load_workbook\n",
    "import time\n",
    "from datetime import date\n",
    "import pandas as pd"
   ]
  },
  {
   "cell_type": "markdown",
   "id": "fb600be9",
   "metadata": {},
   "source": [
    "### Setting driver with Path and website url"
   ]
  },
  {
   "cell_type": "code",
   "execution_count": 2,
   "id": "71c5a2ce",
   "metadata": {},
   "outputs": [
    {
     "name": "stderr",
     "output_type": "stream",
     "text": [
      "C:\\Users\\Shamshad Choudhary\\AppData\\Local\\Temp\\ipykernel_3008\\812615092.py:8: DeprecationWarning: use options instead of chrome_options\n",
      "  driver = webdriver.Chrome(service=Service(ChromeDriverManager().install()),chrome_options=chrome_options)\n"
     ]
    }
   ],
   "source": [
    "driver = webdriver.Chrome(service=Service(ChromeDriverManager().install()))\n",
    "\n",
    "chrome_options = Options()\n",
    "prefs = {'profile.default_content_setting_values': {'images': 2}}\n",
    "\n",
    "chrome_options.add_experimental_option('prefs', prefs)\n",
    "\n",
    "driver = webdriver.Chrome(service=Service(ChromeDriverManager().install()),chrome_options=chrome_options)\n",
    "\n",
    "url = \"https://www.noon.com/egypt-en/sports-and-outdoors/exercise-and-fitness/yoga-16328/\"\n",
    "\n",
    "driver.get(url)\n",
    "\n",
    "driver.maximize_window()\n",
    "\n",
    "# chrome_options = webdriver.ChromeOptions()"
   ]
  },
  {
   "cell_type": "markdown",
   "id": "5cfe37b9",
   "metadata": {},
   "source": [
    "#### below code was written to make excel file to difined no. of columns\n",
    "#### Therefore on initial run excel file was made after it was commented out on other run to append data in it "
   ]
  },
  {
   "cell_type": "code",
   "execution_count": 3,
   "id": "29437a6e",
   "metadata": {},
   "outputs": [],
   "source": [
    "df_bike = pd.DataFrame(columns=['Date','EAN/SKU','Position','Product Name','Currency','Product Price','Old Price','Product Rating','Product Rating Count',\n",
    "                                   'Brand','Store Name','Store Rating','Store Rating count','FBN','link'])\n",
    "\n",
    "df_bike.to_excel(f'Extraction.xlsx',index=False)"
   ]
  },
  {
   "cell_type": "markdown",
   "id": "cbfbec88",
   "metadata": {},
   "source": [
    "#### was use to open already made excel file"
   ]
  },
  {
   "cell_type": "code",
   "execution_count": 4,
   "id": "aab7581a",
   "metadata": {},
   "outputs": [],
   "source": [
    "workbook_name = 'Extraction.xlsx'\n",
    "wb = load_workbook(workbook_name)\n",
    "page = wb.active"
   ]
  },
  {
   "cell_type": "code",
   "execution_count": 5,
   "id": "7ea7a5e3",
   "metadata": {},
   "outputs": [],
   "source": [
    "dates = []\n",
    "EANs = []\n",
    "product_names = []\n",
    "currency = []\n",
    "new_prices = []\n",
    "old_prices = []\n",
    "proRatings = []\n",
    "proRatingCounts = []\n",
    "brands = []\n",
    "storeNames = []\n",
    "positions = []\n",
    "storeRatingCounts = []\n",
    "storeRatings = []\n",
    "FBNs = []"
   ]
  },
  {
   "cell_type": "markdown",
   "id": "3bd26de3",
   "metadata": {},
   "source": [
    "#### crashing of program due to internet issues.Therefore, i am using for loop upto range of 5 to make 5 pages excel at time\n",
    "#### making 5 pages product details excel at time and merged all .xlsx files to create single 3000 porduct details excel file manually"
   ]
  },
  {
   "cell_type": "code",
   "execution_count": null,
   "id": "013ecfec",
   "metadata": {
    "scrolled": true
   },
   "outputs": [
    {
     "name": "stdout",
     "output_type": "stream",
     "text": [
      "Scraping page  1\n"
     ]
    }
   ],
   "source": [
    "for j in range(0,1):              \n",
    "    for i in range(j*5,(j+1)*5):   ## scarping 5 pages at time due to internet problem which causes program to crash\n",
    "        links = []\n",
    "        print(\"Scraping page \",i+1)\n",
    "        products = driver.find_elements(By.XPATH,\"(//div[@class='sc-cb3f65f3-7 pEiif grid']/span/a)\")\n",
    "\n",
    "        for link in products:\n",
    "            links.append(link.get_attribute('href'))\n",
    "\n",
    "            EAN = link.get_attribute('id').split('-')\n",
    "            EANs.append(EAN[1])\n",
    "        \n",
    "        count = 0\n",
    "        \n",
    "\n",
    "        for link in links:\n",
    "            driver.get(link)\n",
    "\n",
    "            data = []\n",
    "            \n",
    "          # Locators\n",
    "\n",
    "            today = date.today()\n",
    "\n",
    "            try:\n",
    "                position = driver.find_element(By.XPATH,\"//div[@class='sc-e4a456cc-5 hsjerl']\").text\n",
    "            except:\n",
    "                position = \"\"\n",
    "\n",
    "            try:\n",
    "                name = driver.find_element(By.XPATH,\"//h1[@class='sc-c44e3e2d-12 kODUYj']\").text\n",
    "            except:\n",
    "                name = \"\"\n",
    "\n",
    "            try:\n",
    "                newPrice = driver.find_element(By.XPATH,\"//div[@class='priceNow']\").text\n",
    "            except:\n",
    "                newPrice = 0\n",
    "\n",
    "            try:\n",
    "                oldPrice = driver.find_element(By.XPATH,\"//div[@class='priceWas']\").text\n",
    "            except:\n",
    "                oldPrice = \"\"\n",
    "\n",
    "            try:\n",
    "                proRating = driver.find_element(By.XPATH,\"//span[@class='sc-31ebbe94-1 bngoaw']\").text\n",
    "            except:\n",
    "                proRating = \"\"\n",
    "        \n",
    "            try:\n",
    "                proRatingCount = driver.find_element(By.XPATH,\"//div[@class='sc-53a159dc-0 iqpeOg']/span\").text   \n",
    "            except:\n",
    "                proRatingCount = \"\"\n",
    "\n",
    "            try:\n",
    "                brand = driver.find_element(By.XPATH,\"//div[@class='sc-c44e3e2d-11 jbKJDi']\").text\n",
    "            except:\n",
    "                brand = \"\"\n",
    "\n",
    "            try:\n",
    "                storeName = driver.find_element(By.XPATH,\"//span[@class='allOffers']\").text\n",
    "            except:\n",
    "                storeName = \"\"\n",
    "\n",
    "            try:\n",
    "                fbn = driver.find_element(By.XPATH,\"//img[@class='sc-b51db3f-1 bGljQY']\").get_attribute('alt')\n",
    "                fbn = fbn.split('-')\n",
    "                fbn = fbn[1]\n",
    "            except:\n",
    "                fbn = 0\n",
    "            \n",
    "          \n",
    "            \n",
    "            position = position.split('\\n')    #making position\n",
    "            position = position[0:4]\n",
    "            position = \"/\".join(position)\n",
    "\n",
    "\n",
    "            # storeLink = driver.find_element(By.XPATH,\"//button[@class='sc-d711b2ac-6 fssgSV']\")\n",
    "            try:\n",
    "                storeLink = WebDriverWait(driver, 10).until(\n",
    "                        EC.presence_of_element_located((By.XPATH,\"//button[@class='sc-d711b2ac-6 fssgSV']\"))\n",
    "                )\n",
    "                storeLink.click()\n",
    "            except:\n",
    "                print(f'storeLink not found of {i} page product link: {link}')\n",
    "        \n",
    "            try:\n",
    "                storeRating = WebDriverWait(driver, 10).until(\n",
    "                        EC.presence_of_element_located((By.XPATH,\"//div[@class='sc-33d82e78-1 ekJjKz']\"))\n",
    "                )\n",
    "                storeRating = storeRating.text\n",
    "            except:\n",
    "                storeRating = \"\"\n",
    "        \n",
    "            try:\n",
    "                storeRatingCount = WebDriverWait(driver, 10).until(\n",
    "                        EC.presence_of_element_located((By.XPATH,\"(//div[@class='sc-33d82e78-0 hbyggc']/div)[3]\"))\n",
    "                )\n",
    "                storeRatingCount = storeRatingCount.text\n",
    "            except:\n",
    "                storeRatingCount = \"\"\n",
    "        \n",
    "        ### append data to respective lists\n",
    "            dates.append(today)\n",
    "            positions.append(position)\n",
    "            product_names.append(name)\n",
    "            currency.append(newPrice.split()[0] if newPrice else newPrice)\n",
    "            new_prices.append(newPrice.split()[1] if newPrice else newPrice)\n",
    "            old_prices.append(oldPrice.split()[1] if oldPrice else oldPrice)\n",
    "            proRatings.append(proRating)\n",
    "            proRatingCounts.append(proRatingCount.split()[0] if proRatingCount else proRatingCount)\n",
    "            brands.append(brand)\n",
    "            storeNames.append(storeName)\n",
    "            FBNs.append(fbn)\n",
    "            storeRatings.append(storeRating)\n",
    "            storeRatingCounts.append(storeRatingCount.split()[2] if storeRatingCount else storeRatingCount)                                     \n",
    "            \n",
    "            ## making list to append data in excel (should be proper format according to headers)\n",
    "            data.append(today)\n",
    "            data.append(EANs[count])\n",
    "            data.append(position)\n",
    "            data.append(name)\n",
    "            data.append(newPrice.split()[0] if newPrice else newPrice)\n",
    "            data.append(newPrice.split()[1] if newPrice else newPrice)\n",
    "            data.append(oldPrice.split()[1] if oldPrice else oldPrice)\n",
    "            data.append(proRating)\n",
    "            data.append(proRatingCount.split()[0] if proRatingCount else proRatingCount)\n",
    "            data.append(brand)\n",
    "            data.append(storeName)\n",
    "            data.append(storeRating)\n",
    "            data.append(storeRatingCount.split()[2] if storeRatingCount else storeRatingCount) \n",
    "            data.append(fbn)\n",
    "            data.append(link)\n",
    "            \n",
    "            ## append data in excel file\n",
    "            page.append(data)\n",
    "            wb.save(filename=workbook_name)\n",
    "            \n",
    "            count=count+1\n",
    "            \n",
    "            ## Going back ward\n",
    "            time.sleep(0.5)\n",
    "            driver.back()\n",
    "            time.sleep(0.5)\n",
    "            driver.back()\n",
    "\n",
    "        \n",
    "#         next_page = driver.find_element(By.XPATH,\"(//div[@class='sc-31bd7555-1 cpvGCn'])[2]\")\n",
    "#         next_page.click()\n",
    "        # navigate to next page\n",
    "        try:\n",
    "            next_page = WebDriverWait(driver, 10).until(\n",
    "                    EC.presence_of_element_located((By.XPATH,\"(//div[@class='sc-31bd7555-1 cpvGCn'])[2]\"))\n",
    "            )\n",
    "            next_page.click()\n",
    "        except:\n",
    "            print(f'next_page not found of {i+1} page not clickable')\n",
    "        \n",
    "\n",
    "#     df_bike = pd.DataFrame(columns=['Date','EAN/SKU','Position','Product Name','Currency','Product Price','Old Price','Product Rating','Product Rating Count',\n",
    "#                                    'Brand','Store Name','Store Rating','Store Rating count','FBN','link'])\n",
    "\n",
    "#     for i in range(len(links)):\n",
    "#         df_bike = df_bike.append({'Date':dates[i],'EAN/SKU':EANs[i],'Position':positions[i],'Product Name': product_names[i],'Currency':currency[i],'Product Price': new_prices[i],\n",
    "#                                  'Old Price':old_prices[i],'Product Rating':proRatings[i],'Product Rating Count':proRatingCounts[i],\n",
    "#                                  'Brand':brands[i],'Store Name':storeNames[i],'Store Rating':storeRatings[i],\n",
    "#                                  'Store Rating count':storeRatingCounts[i],'FBN':FBNs[i],'link':links[i]}, ignore_index=True)\n",
    "\n",
    "#     df_bike.to_excel(f'Output{i+1}.xlsx',index=False)"
   ]
  },
  {
   "cell_type": "code",
   "execution_count": null,
   "id": "0f21a434",
   "metadata": {},
   "outputs": [],
   "source": [
    "# driver.quit()"
   ]
  },
  {
   "cell_type": "code",
   "execution_count": null,
   "id": "36826e54",
   "metadata": {},
   "outputs": [],
   "source": [
    "# df_bike = pd.DataFrame(columns=['Date','EAN/SKU','Position','Product Name','Currency','Product Price','Old Price','Product Rating','Product Rating Count',\n",
    "#                                'Brand','Store Name','Store Rating','Store Rating count','FBN','link'])"
   ]
  },
  {
   "cell_type": "code",
   "execution_count": null,
   "id": "ee1be15b",
   "metadata": {},
   "outputs": [],
   "source": [
    "# df_bike"
   ]
  },
  {
   "cell_type": "code",
   "execution_count": null,
   "id": "c14c4236",
   "metadata": {
    "scrolled": true
   },
   "outputs": [],
   "source": [
    "# for i in range(len(product_names)):\n",
    "#     df_bike = df_bike.append({'Date':dates[i],'EAN/SKU':EANs[i],'Position':positions[i],'Product Name': product_names[i],'Currency':currency[i],'Product Price': new_prices[i],\n",
    "#                              'Old Price':old_prices[i],'Product Rating':proRatings[i],'Product Rating Count':proRatingCounts[i],\n",
    "#                              'Brand':brands[i],'Store Name':storeNames[i],'Store Rating':storeRatings[i],\n",
    "#                              'Store Rating count':storeRatingCounts[i],'FBN':FBNs[i],'link':links[i]}, ignore_index=True)"
   ]
  },
  {
   "cell_type": "code",
   "execution_count": null,
   "id": "64ba1b61",
   "metadata": {
    "scrolled": true
   },
   "outputs": [],
   "source": [
    "# df_bike"
   ]
  },
  {
   "cell_type": "code",
   "execution_count": null,
   "id": "0020eef2",
   "metadata": {},
   "outputs": [],
   "source": [
    "# df_bike.to_excel('Output.xlsx',index=False)"
   ]
  },
  {
   "cell_type": "code",
   "execution_count": null,
   "id": "2369aeaf",
   "metadata": {},
   "outputs": [],
   "source": [
    "# driver.quit()"
   ]
  }
 ],
 "metadata": {
  "kernelspec": {
   "display_name": "Python 3 (ipykernel)",
   "language": "python",
   "name": "python3"
  },
  "language_info": {
   "codemirror_mode": {
    "name": "ipython",
    "version": 3
   },
   "file_extension": ".py",
   "mimetype": "text/x-python",
   "name": "python",
   "nbconvert_exporter": "python",
   "pygments_lexer": "ipython3",
   "version": "3.10.6"
  }
 },
 "nbformat": 4,
 "nbformat_minor": 5
}
